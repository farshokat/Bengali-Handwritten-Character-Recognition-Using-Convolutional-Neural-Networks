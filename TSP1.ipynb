{
  "nbformat": 4,
  "nbformat_minor": 0,
  "metadata": {
    "colab": {
      "name": "TSP1.ipynb",
      "provenance": [],
      "authorship_tag": "ABX9TyP7XKW3su8rHI4TCoQ6djHF",
      "include_colab_link": true
    },
    "kernelspec": {
      "name": "python3",
      "display_name": "Python 3"
    },
    "language_info": {
      "name": "python"
    }
  },
  "cells": [
    {
      "cell_type": "markdown",
      "metadata": {
        "id": "view-in-github",
        "colab_type": "text"
      },
      "source": [
        "<a href=\"https://colab.research.google.com/github/farshokat/Bengali-Handwritten-Character-Recognition-Using-Convolutional-Neural-Networks/blob/master/TSP1.ipynb\" target=\"_parent\"><img src=\"https://colab.research.google.com/assets/colab-badge.svg\" alt=\"Open In Colab\"/></a>"
      ]
    },
    {
      "cell_type": "code",
      "metadata": {
        "colab": {
          "base_uri": "https://localhost:8080/"
        },
        "id": "nK84bx8YZKYS",
        "outputId": "ab09e4fc-b078-4bf7-cb10-2d98017b97f5"
      },
      "source": [
        "!git https://github.com/prakharverma/Christofides-Algorithm.git\n"
      ],
      "execution_count": null,
      "outputs": [
        {
          "output_type": "stream",
          "text": [
            "git: 'https://github.com/prakharverma/Christofides-Algorithm.git' is not a git command. See 'git --help'.\n"
          ],
          "name": "stdout"
        }
      ]
    },
    {
      "cell_type": "code",
      "metadata": {
        "colab": {
          "base_uri": "https://localhost:8080/"
        },
        "id": "143YnijxcUXQ",
        "outputId": "8361860a-ec5e-47c7-d68b-f633d10e29a0"
      },
      "source": [
        "pip install graph"
      ],
      "execution_count": 10,
      "outputs": [
        {
          "output_type": "stream",
          "text": [
            "\u001b[31mERROR: Could not find a version that satisfies the requirement graph (from versions: none)\u001b[0m\n",
            "\u001b[31mERROR: No matching distribution found for graph\u001b[0m\n"
          ],
          "name": "stdout"
        }
      ]
    },
    {
      "cell_type": "code",
      "metadata": {
        "colab": {
          "base_uri": "https://localhost:8080/"
        },
        "id": "zwDJZf8DbWmr",
        "outputId": "15a98f48-adfc-4548-b318-6287fa173812"
      },
      "source": [
        "!python /content/Christofides-Algorithm-master/main.py"
      ],
      "execution_count": 14,
      "outputs": [
        {
          "output_type": "stream",
          "text": [
            "\n",
            "Path: ['2', '4', '5', '3', '1', '2']\n",
            "Total traveling cost : 38\n"
          ],
          "name": "stdout"
        }
      ]
    },
    {
      "cell_type": "code",
      "metadata": {
        "id": "zhalOlFOb0p9"
      },
      "source": [
        ""
      ],
      "execution_count": null,
      "outputs": []
    }
  ]
}